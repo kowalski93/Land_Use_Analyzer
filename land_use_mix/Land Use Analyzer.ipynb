{
 "cells": [
  {
   "cell_type": "markdown",
<<<<<<< Updated upstream
   "id": "agreed-decade",
=======
   "id": "ruled-prime",
>>>>>>> Stashed changes
   "metadata": {},
   "source": [
    "# Land Use Analyzer"
   ]
  },
  {
   "cell_type": "markdown",
<<<<<<< Updated upstream
   "id": "worldwide-rochester",
=======
   "id": "handled-stomach",
>>>>>>> Stashed changes
   "metadata": {},
   "source": [
    "## Import the libraries"
   ]
  },
  {
   "cell_type": "markdown",
<<<<<<< Updated upstream
   "id": "wound-puppy",
=======
   "id": "lasting-school",
>>>>>>> Stashed changes
   "metadata": {},
   "source": [
    "For the core part of the application, the geopandas library is needed. By installing it, the pandas library and numpy should also be installed"
   ]
  },
  {
   "cell_type": "code",
   "execution_count": 1,
<<<<<<< Updated upstream
   "id": "laughing-advancement",
=======
   "id": "three-medication",
>>>>>>> Stashed changes
   "metadata": {},
   "outputs": [],
   "source": [
    "import geopandas as gpd\n",
    "import pandas as pd\n",
    "import os\n",
    "from numpy import log,array,unique"
   ]
  },
  {
   "cell_type": "markdown",
<<<<<<< Updated upstream
   "id": "biological-classics",
=======
   "id": "atomic-productivity",
>>>>>>> Stashed changes
   "metadata": {},
   "source": [
    "## Set the path to the input data"
   ]
  },
  {
   "cell_type": "markdown",
<<<<<<< Updated upstream
   "id": "reliable-tribe",
=======
   "id": "regulation-replica",
>>>>>>> Stashed changes
   "metadata": {},
   "source": [
    "The input parameters. See page 7 of the documentation for more details."
   ]
  },
  {
   "cell_type": "code",
   "execution_count": 2,
<<<<<<< Updated upstream
   "id": "radio-submission",
=======
   "id": "oriental-weight",
>>>>>>> Stashed changes
   "metadata": {},
   "outputs": [],
   "source": [
    "lu=gpd.read_file(r\"C:\\path...\\to...\\dummy_data\\SLUPShapefiles2019\\SLUP2019.shp\")\n",
    "grid=gpd.read_file(r\"C:\\path...\\to...\\dummy_data\\SLUPShapefiles2019\\Neighborhood_Boundaries.shp\")\n",
    "uid_lc=\"SLUP_LATES\"\n",
    "uid_grid=\"NHD_NUM_ST\"\n",
    "temp_path=r\"C:\\path..\\to..\\temp\""
   ]
  },
  {
   "cell_type": "markdown",
<<<<<<< Updated upstream
   "id": "accurate-peter",
=======
   "id": "finnish-harris",
>>>>>>> Stashed changes
   "metadata": {},
   "source": [
    "## Define the class for the land use mix indices"
   ]
  },
  {
   "cell_type": "markdown",
<<<<<<< Updated upstream
   "id": "tested-receptor",
=======
   "id": "apart-sensitivity",
>>>>>>> Stashed changes
   "metadata": {},
   "source": [
    "The main part of the application. The \"lum\" class contains two functions for the calculation of a land use mix index: One for the entropy index and one for the HHI. It also uses an intermediate function that does some standard geoprocessing operations that are useful for both other functions. See the documentation for more details."
   ]
  },
  {
   "cell_type": "code",
   "execution_count": 3,
<<<<<<< Updated upstream
   "id": "recreational-elizabeth",
=======
   "id": "arranged-exclusive",
>>>>>>> Stashed changes
   "metadata": {},
   "outputs": [],
   "source": [
    "class lum:\n",
    "    def __init__(self,lu,grid,uid_lc,uid_grid,temp_path):\n",
    "        self.lu = lu\n",
    "        self.grid = grid\n",
    "        self.uid_lc = uid_lc\n",
    "        self.uid_grid = uid_grid\n",
    "        self.temp_path = temp_path\n",
    "    \n",
    "    def intermediate(self):\n",
    "        intersection = gpd.overlay(self.lu,self.grid,how = 'intersection')\n",
    "        dissolved = intersection.dissolve(by = [self.uid_lc,self.uid_grid])\n",
    "    \n",
    "        dissolved['poly_area'] = dissolved.area\n",
    "        dissolved.to_file(os.path.join(self.temp_path,\"dissolved.shp\"))\n",
    "    \n",
    "        dissolved_new = gpd.read_file(os.path.join(self.temp_path,\"dissolved.shp\"))\n",
    "        area_sum = dissolved_new[[self.uid_grid, \"poly_area\"]].groupby(self.uid_grid).sum()\n",
    "    \n",
    "        dissolved_new = dissolved_new.merge(area_sum, on = self.uid_grid)\n",
    "        dissolved_new.rename(columns = {'poly_area_y':'total_area_cell'}, inplace = True) \n",
    "    \n",
    "        ratios = (dissolved_new[\"poly_area_x\"]/dissolved_new[\"total_area_cell\"])\n",
    "        \n",
    "        num_classes_per_grid_feature = dissolved_new[[self.uid_grid, uid_lc]].groupby(self.uid_grid).count()\n",
    "        \n",
    "        return dissolved_new,ratios,num_classes_per_grid_feature,intersection\n",
    "    \n",
    "    def entropy(self):\n",
    "        dataset = self.intermediate()[0]\n",
    "        ratios_c = self.intermediate()[1]\n",
    "        nuclapegrif=self.intermediate()[2]\n",
    "        \n",
    "        log_ratios = log(ratios_c)\n",
    "        dataset['area_perc_log'] = log_ratios*ratios_c\n",
    "        \n",
    "        ln_num_classes_per_grid_feature = log(nuclapegrif)\n",
    "        \n",
    "        sum_logs = dataset[[self.uid_grid, \"area_perc_log\"]].groupby(self.uid_grid).sum()\n",
    "        \n",
    "        sum_logs_merged_ln_num_classes = sum_logs.merge(ln_num_classes_per_grid_feature,on = self.uid_grid)\n",
    "        \n",
    "        sum_logs_merged_ln_num_classes['ENTROPY'] = -1*(sum_logs_merged_ln_num_classes['area_perc_log']/sum_logs_merged_ln_num_classes[self.uid_lc])\n",
    "        \n",
    "        grid_final_entropy = (self.grid).merge(sum_logs_merged_ln_num_classes,on = self.uid_grid)\n",
    "        \n",
    "        return grid_final_entropy\n",
    "    \n",
    "    def hhi(self):\n",
    "        dataset = self.intermediate()[0]\n",
    "        ratios_c = self.intermediate()[1]\n",
    "        hhi = ((ratios_c))*2\n",
    "        \n",
    "        dataset['HHI'] = hhi\n",
    "        \n",
    "        sum_squared_ratios = dataset[[self.uid_grid, \"HHI\"]].groupby(self.uid_grid).sum()\n",
    "        grid_final_hhi = (self.grid).merge(sum_squared_ratios,on = self.uid_grid)\n",
    "        \n",
    "        return grid_final_hhi"
   ]
  },
  {
   "cell_type": "markdown",
<<<<<<< Updated upstream
   "id": "christian-aircraft",
=======
   "id": "similar-telescope",
>>>>>>> Stashed changes
   "metadata": {},
   "source": [
    "## Applying some examples"
   ]
  },
  {
   "cell_type": "markdown",
<<<<<<< Updated upstream
   "id": "acute-television",
=======
   "id": "preceding-cattle",
>>>>>>> Stashed changes
   "metadata": {},
   "source": [
    "We create an instance of the lum class and then we use the two functions for the calculations of land use mix. For both cases, we export the result into a shapefile. We can also do a basic plot of the result."
   ]
  },
  {
   "cell_type": "code",
   "execution_count": 4,
<<<<<<< Updated upstream
   "id": "cathedral-compatibility",
=======
   "id": "polish-violation",
>>>>>>> Stashed changes
   "metadata": {},
   "outputs": [],
   "source": [
    "l=lum(lu,grid,uid_lc,uid_grid,temp_path)"
   ]
  },
  {
   "cell_type": "code",
   "execution_count": 201,
<<<<<<< Updated upstream
   "id": "objective-delicious",
=======
   "id": "controlled-queue",
>>>>>>> Stashed changes
   "metadata": {},
   "outputs": [],
   "source": [
    "shape_hhi=l.hhi()\n",
    "\n",
    "shape_hhi.to_file('SF_land_use_hhi.shp')"
   ]
  },
  {
   "cell_type": "code",
   "execution_count": 5,
<<<<<<< Updated upstream
   "id": "dangerous-uncertainty",
=======
   "id": "medieval-kinase",
>>>>>>> Stashed changes
   "metadata": {},
   "outputs": [],
   "source": [
    "shape_entropy=l.entropy()\n",
    "\n",
    "shape_entropy.to_file('SF_land_use_entropy.shp')\n",
    "\n",
    "shape_entropy.plot(column=\"ENTROPY\",cmap='Reds')"
   ]
  },
  {
   "cell_type": "markdown",
<<<<<<< Updated upstream
   "id": "joined-majority",
=======
   "id": "loving-validation",
>>>>>>> Stashed changes
   "metadata": {},
   "source": [
    "## Define the class for the land use statistics"
   ]
  },
  {
   "cell_type": "markdown",
<<<<<<< Updated upstream
   "id": "broke-marriage",
=======
   "id": "alpha-height",
>>>>>>> Stashed changes
   "metadata": {},
   "source": [
    "A secondary part of this application is some statistical functions per each neighborhood or grid feature. These functions attach a new column to the grid feature class describing each feature's:\n",
    "\n",
    "-Total number of included land use categories\n",
    "\n",
    "-Most frequent land use category\n",
    "\n",
    "-Land use category with the highest share of area\n",
    "\n",
    "-Share (% area) of each category on each grid feature"
   ]
  },
  {
   "cell_type": "code",
   "execution_count": 34,
<<<<<<< Updated upstream
   "id": "naked-positive",
=======
   "id": "funky-aging",
>>>>>>> Stashed changes
   "metadata": {},
   "outputs": [],
   "source": [
    "class stats(lum):\n",
    "    \n",
    "    def count(self):\n",
    "        dataset = self.intermediate()[0]\n",
    "        nuclapegrif=self.intermediate()[2]\n",
    "        \n",
    "        grid_count=(self.grid).merge(nuclapegrif,on = self.uid_grid)\n",
    "        grid_count.rename(columns = {self.uid_lc:'COUNT'}, inplace = True)\n",
    "        \n",
    "        return grid_count\n",
    "    \n",
    "    def mode_count(self):\n",
    "        dataset=self.intermediate()[3]\n",
    "        dataset=dataset[[self.uid_lc,self.uid_grid]]\n",
    "        \n",
    "        mode_count=dataset.groupby([self.uid_grid]).agg(lambda x:x.value_counts().index[0])\n",
    "        \n",
    "        grid_mode_count=(self.grid).merge(mode_count,on = self.uid_grid)\n",
    "        grid_mode_count.rename(columns = {self.uid_lc:'MODE_COUNT'}, inplace = True) \n",
    "        \n",
    "        return grid_mode_count\n",
    "    \n",
    "    def mode_area(self):\n",
    "        dataset=self.intermediate()[0][[self.uid_grid,self.uid_lc, \"poly_area_x\"]]\n",
    "        mode_area=test.sort_values('poly_area_x',ascending=False).groupby(self.uid_grid).first()\n",
    "        grid_mode_area=grid.merge(mode_area,on=uid_grid)\n",
    "        grid_mode_area.rename(columns = {'poly_area_x':'AREA',self.uid_lc:'MODE_AREA'}, inplace = True)\n",
    "        \n",
    "        return grid_mode_area\n",
    "    \n",
    "    def report(self):\n",
    "        dataset=self.lu\n",
    "        dataset['AREA_sq_m']=dataset.area\n",
    "        table=lu.groupby(self.uid_lc).describe()['AREA_sq_m']\n",
    "        table=table.drop(columns=['25%','50%','75%'])\n",
    "        \n",
    "        return table\n",
    "\n",
    "    def ratios(self):\n",
    "        dataset=self.intermediate()[0]\n",
    "\n",
    "        dataset['ratios']=(100*round(dataset[\"poly_area_x\"]/dataset[\"total_area_cell\"],3))\n",
    "\n",
    "        cols_lc=np.unique(dataset[self.uid_lc]).tolist()\n",
    "        total_lc_types=len(cols_lc)\n",
    "        \n",
    "        grid_reind=self.grid.reindex(columns=grid.columns.tolist()+cols_lc)\n",
    "        grid_reind_sorted=grid_reind.sort_values(by=[self.uid_grid])\n",
    "        grid_reind_sorted.to_file(os.path.join(self.temp_path,\"sorted.shp\"))\n",
    "        sorted_new=gpd.read_file(os.path.join(self.temp_path,\"sorted.shp\"))\n",
    "        \n",
    "        for column in cols_lc:\n",
    "            sorted_new=sorted_new.astype({column:float})\n",
    "\n",
    "        uid_grid_unique=np.unique(dataset[self.uid_grid])\n",
    "\n",
    "        list_ratios=[]\n",
    "        list_lcs=[]\n",
    "        for grid_feature in uid_grid_unique:\n",
    "            feature_ratios=np.array(dataset[dataset[self.uid_grid]==grid_feature]['ratios']).tolist()\n",
    "            feature_lcs=np.array(dataset[dataset[self.uid_grid]==grid_feature][self.uid_lc]).tolist()\n",
    "            \n",
    "            list_ratios.append(feature_ratios)\n",
    "            list_lcs.append(feature_lcs)\n",
    "\n",
    "        for i in range(len(sorted_new)):\n",
    "            sorted_new.loc[i,list_lcs[i]]=list_ratios[i]\n",
    "            \n",
    "        sorted_final=sorted_new.fillna(0.0)\n",
    "        \n",
    "        return sorted_final"
   ]
  },
  {
   "cell_type": "code",
   "execution_count": 35,
<<<<<<< Updated upstream
   "id": "foreign-serum",
=======
   "id": "ancient-carrier",
>>>>>>> Stashed changes
   "metadata": {},
   "outputs": [],
   "source": [
    "l=stats(lu,grid,uid_lc,uid_grid,temp_path)"
   ]
  },
  {
   "cell_type": "code",
   "execution_count": 20,
<<<<<<< Updated upstream
   "id": "devoted-breakfast",
=======
   "id": "exempt-cincinnati",
>>>>>>> Stashed changes
   "metadata": {},
   "outputs": [],
   "source": [
    "layer_count=l.mode_count()\n",
    "\n",
    "layer_count.to_file('SF_Neighborhoods_mode_count.shp')\n",
    "\n",
    "layer_count"
   ]
  }
 ],
 "metadata": {
  "kernelspec": {
   "display_name": "Python 3",
   "language": "python",
   "name": "python3"
  },
  "language_info": {
   "codemirror_mode": {
    "name": "ipython",
    "version": 3
   },
   "file_extension": ".py",
   "mimetype": "text/x-python",
   "name": "python",
   "nbconvert_exporter": "python",
   "pygments_lexer": "ipython3",
   "version": "3.8.5"
  }
 },
 "nbformat": 4,
 "nbformat_minor": 5
}
